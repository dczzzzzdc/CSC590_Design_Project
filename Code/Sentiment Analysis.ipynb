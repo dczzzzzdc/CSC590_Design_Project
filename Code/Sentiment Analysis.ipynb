{
 "cells": [
  {
   "cell_type": "markdown",
   "id": "623fc9d4",
   "metadata": {},
   "source": [
    "<h1><center> Sentiment Analysis"
   ]
  },
  {
   "cell_type": "code",
   "execution_count": null,
   "id": "48f9a109",
   "metadata": {
    "pycharm": {
     "name": "#%%\n"
    }
   },
   "outputs": [],
   "source": [
    "import pandas as pd\n",
    "import numpy as np\n",
    "import matplotlib as plt\n",
    "\n",
    "from sklearn.preprocessing import LabelEncoder\n",
    "\n",
    "import keras\n",
    "from keras.preprocessing.text import Tokenizer\n",
    "from keras.preprocessing.sequence import pad_sequences\n",
    "from keras.models import Sequential\n",
    "from keras.layers import Dense, Dropout, Embedding, LSTM\n",
    "from keras.callbacks import ReduceLROnPlateau, EarlyStopping\n",
    "from sklearn.metrics import classification_report, accuracy_score\n",
    "\n",
    "import nltk\n",
    "from nltk.corpus import stopwords\n",
    "from nltk.stem import SnowballStemmer\n",
    "\n",
    "from gensim.models import word2vec\n",
    "\n",
    "import re\n",
    "import logging\n",
    "logging.basicConfig(format='%(asctime)s : %(levelname)s : %(message)s', level=logging.INFO)"
   ]
  },
  {
   "cell_type": "code",
   "execution_count": null,
   "id": "d6eaca31",
   "metadata": {},
   "outputs": [],
   "source": [
    "# Word2Vec parameters\n",
    "W2V_SIZE = 300 \n",
    "W2V_WINDOW = 7  \n",
    "W2V_MIN_COUNT = 10 \n",
    "W2V_WORKERS=8\n",
    "W2V_EPOCH = 32 \n",
    "\n",
    "# Tokenizer parameters\n",
    "SEQUENCE_LENGTH = 300\n",
    "\n",
    "# Sequential paremeters\n",
    "EPOCHS = 1\n",
    "BATCH_SIZE = 1024"
   ]
  },
  {
   "cell_type": "code",
   "execution_count": null,
   "id": "854a1b2f",
   "metadata": {},
   "outputs": [],
   "source": [
    "col_names = [\"Sentiment\",\"Text\"]\n",
    "data = pd.read_csv('..\\Data\\data.csv',names = col_names,encoding=\"ISO-8859-1\")"
   ]
  },
  {
   "cell_type": "code",
   "execution_count": null,
   "id": "f8219fa6",
   "metadata": {},
   "outputs": [],
   "source": [
    "stops = set(stopwords.words(\"english\"))\n",
    "tokenizer = nltk.data.load('tokenizers/punkt/english.pickle')\n",
    "stemmer = SnowballStemmer(\"english\")\n",
    "\n",
    "def process_text(text,remove_stops = False, stem = False):\n",
    "    text = str(text).lower().strip()\n",
    "    text = re.sub('https?://\\S+|www\\.\\S+', '', text) # remove url links\n",
    "    text = re.sub(\"@[\\w]*\",'',text) # remove \"@user\"\n",
    "    text = re.sub('[^a-zA-Z]',' ',text) # leave only characters\n",
    "    words =[]\n",
    "    for word in text.split():\n",
    "        if not remove_stops or word not in stops:\n",
    "            if not stem:\n",
    "                words.append(word)\n",
    "            else:\n",
    "                words.append(stemmer.stem(word))\n",
    "    return words    \n",
    "\n",
    "data['Text'] = data['Text'].apply(lambda x: process_text(x,remove_stops = True))"
   ]
  },
  {
   "cell_type": "code",
   "execution_count": null,
   "id": "befa3a07",
   "metadata": {},
   "outputs": [],
   "source": [
    "train_rows = round(len(data.index)*0.6)\n",
    "val_rows = round(len(data)*0.2)\n",
    "test_rows = len(data.index)-(val_rows+train_rows)\n",
    "\n",
    "train=data.iloc[:train_rows]\n",
    "train.reset_index(drop=True, inplace=True)\n",
    "\n",
    "val = data.iloc[train_rows:train_rows+val_rows]\n",
    "val.reset_index(drop=True, inplace=True)\n",
    "\n",
    "test = data.iloc[train_rows+val_rows:]\n",
    "test.reset_index(drop=True, inplace=True)"
   ]
  },
  {
   "cell_type": "code",
   "execution_count": null,
   "id": "f68812a5",
   "metadata": {
    "deletable": false,
    "editable": false,
    "run_control": {
     "frozen": true
    }
   },
   "outputs": [],
   "source": [
    "w2v_model = word2vec.Word2Vec(size=W2V_SIZE, \n",
    "                              window=W2V_WINDOW, \n",
    "                              min_count=W2V_MIN_COUNT, \n",
    "                              workers=W2V_WORKERS)"
   ]
  },
  {
   "cell_type": "code",
   "execution_count": null,
   "id": "521c2bde",
   "metadata": {
    "deletable": false,
    "editable": false,
    "run_control": {
     "frozen": true
    }
   },
   "outputs": [],
   "source": [
    "train_sentences = train['Text'].tolist()\n",
    "w2v_model.build_vocab(train_sentences)"
   ]
  },
  {
   "cell_type": "code",
   "execution_count": null,
   "id": "1e5454dc",
   "metadata": {
    "deletable": false,
    "editable": false,
    "run_control": {
     "frozen": true
    }
   },
   "outputs": [],
   "source": [
    "W2V_EPOCH = 32 \n",
    "w2v_model.train(train_sentences, \n",
    "                total_examples=len(train_sentences), \n",
    "                epochs=W2V_EPOCH)"
   ]
  },
  {
   "cell_type": "code",
   "execution_count": null,
   "id": "2f9a31c1",
   "metadata": {
    "deletable": false,
    "editable": false,
    "run_control": {
     "frozen": true
    }
   },
   "outputs": [],
   "source": [
    "w2v_model.save('..\\Model\\w2v_model.model')"
   ]
  },
  {
   "cell_type": "code",
   "execution_count": null,
   "id": "26b5f1f2",
   "metadata": {},
   "outputs": [],
   "source": [
    "w2v_model = word2vec.Word2Vec.load(\"..\\Model\\w2v_model.model\")"
   ]
  },
  {
   "cell_type": "code",
   "execution_count": null,
   "id": "854483da",
   "metadata": {},
   "outputs": [],
   "source": [
    "tokenizer = Tokenizer()"
   ]
  },
  {
   "cell_type": "code",
   "execution_count": null,
   "id": "0f18df1b",
   "metadata": {},
   "outputs": [],
   "source": [
    "tokenizer.fit_on_texts(train['Text'])\n",
    "vocab_size = len(tokenizer.word_index)+1"
   ]
  },
  {
   "cell_type": "code",
   "execution_count": null,
   "id": "1e0d2e3f",
   "metadata": {},
   "outputs": [],
   "source": [
    "x_train = pad_sequences(tokenizer.texts_to_sequences(train['Text']), \n",
    "                        maxlen=SEQUENCE_LENGTH)\n",
    "x_val = pad_sequences(tokenizer.texts_to_sequences(val['Text']), \n",
    "                      maxlen=SEQUENCE_LENGTH)\n",
    "x_test = pad_sequences(tokenizer.texts_to_sequences(test['Text']), \n",
    "                      maxlen=SEQUENCE_LENGTH)"
   ]
  },
  {
   "cell_type": "code",
   "execution_count": null,
   "id": "3838664a",
   "metadata": {},
   "outputs": [],
   "source": [
    "encoder = LabelEncoder()\n",
    "encoder.fit(train['Sentiment'].tolist())\n",
    "\n",
    "y_train = encoder.transform(train['Sentiment'].tolist())\n",
    "y_val = encoder.transform(val['Sentiment'].tolist())\n",
    "y_test = encoder.transform(test['Sentiment'].tolist())\n",
    "\n",
    "y_train = y_train.reshape(-1,1)\n",
    "y_val = y_val.reshape(-1,1)\n",
    "y_test = encoder.transform(test['Sentiment'].tolist())"
   ]
  },
  {
   "cell_type": "code",
   "execution_count": null,
   "id": "c488e705",
   "metadata": {
    "deletable": false,
    "editable": false,
    "run_control": {
     "frozen": true
    }
   },
   "outputs": [],
   "source": [
    "embedding_matrix = np.zeros((vocab_size, W2V_SIZE))\n",
    "for word, i in tokenizer.word_index.items():\n",
    "  if word in w2v_model.wv:\n",
    "    embedding_matrix[i] = w2v_model.wv[word]"
   ]
  },
  {
   "cell_type": "code",
   "execution_count": null,
   "id": "5c35bfb8",
   "metadata": {
    "deletable": false,
    "editable": false,
    "run_control": {
     "frozen": true
    }
   },
   "outputs": [],
   "source": [
    "embedding_layer = Embedding(vocab_size, \n",
    "                            W2V_SIZE, \n",
    "                            weights=[embedding_matrix], \n",
    "                            input_length=SEQUENCE_LENGTH, \n",
    "                            trainable=False)"
   ]
  },
  {
   "cell_type": "code",
   "execution_count": null,
   "id": "70c05fbb",
   "metadata": {
    "deletable": false,
    "editable": false,
    "run_control": {
     "frozen": true
    }
   },
   "outputs": [],
   "source": [
    "model = Sequential()"
   ]
  },
  {
   "cell_type": "code",
   "execution_count": null,
   "id": "45bbf6a1",
   "metadata": {
    "deletable": false,
    "editable": false,
    "run_control": {
     "frozen": true
    }
   },
   "outputs": [],
   "source": [
    "model.add(embedding_layer)"
   ]
  },
  {
   "cell_type": "code",
   "execution_count": null,
   "id": "55939568",
   "metadata": {
    "deletable": false,
    "editable": false,
    "run_control": {
     "frozen": true
    }
   },
   "outputs": [],
   "source": [
    "model.add(Dropout(0.5))"
   ]
  },
  {
   "cell_type": "code",
   "execution_count": null,
   "id": "0ed74a0f",
   "metadata": {
    "deletable": false,
    "editable": false,
    "run_control": {
     "frozen": true
    }
   },
   "outputs": [],
   "source": [
    "model.add(LSTM(100, dropout=0.2, recurrent_dropout=0.2))"
   ]
  },
  {
   "cell_type": "code",
   "execution_count": null,
   "id": "b7487f99",
   "metadata": {
    "deletable": false,
    "editable": false,
    "run_control": {
     "frozen": true
    }
   },
   "outputs": [],
   "source": [
    "model.add(Dense(1, activation='sigmoid'))"
   ]
  },
  {
   "cell_type": "code",
   "execution_count": null,
   "id": "6e52e138",
   "metadata": {
    "deletable": false,
    "editable": false,
    "run_control": {
     "frozen": true
    }
   },
   "outputs": [],
   "source": [
    "model.compile(loss='binary_crossentropy',optimizer=\"adam\",metrics=['accuracy'])\n",
    "callbacks = [ ReduceLROnPlateau(monitor='val_loss', patience=5, cooldown=0),\n",
    "              EarlyStopping(monitor='val_acc', min_delta=1e-4, patience=5)]\n"
   ]
  },
  {
   "cell_type": "code",
   "execution_count": null,
   "id": "448db980",
   "metadata": {
    "deletable": false,
    "editable": false,
    "run_control": {
     "frozen": true
    }
   },
   "outputs": [],
   "source": [
    "history = model.fit(x_train, y_train,\n",
    "                    batch_size=BATCH_SIZE,\n",
    "                    epochs=EPOCHS,\n",
    "                    validation_data=(x_val,y_val),\n",
    "                    verbose=1, \n",
    "                    callbacks=callbacks)\n",
    "model.save('..\\Model\\model.model')"
   ]
  },
  {
   "cell_type": "code",
   "execution_count": null,
   "id": "adb33635",
   "metadata": {},
   "outputs": [],
   "source": [
    "model = keras.models.load_model('..\\Model\\model.model')"
   ]
  },
  {
   "cell_type": "code",
   "execution_count": null,
   "id": "401a8b99",
   "metadata": {
    "deletable": false,
    "editable": false,
    "run_control": {
     "frozen": true
    }
   },
   "outputs": [],
   "source": [
    "scores = model.predict(x_test, verbose=1, batch_size=8000)\n",
    "y_pred = [1 if score >=0.5 else 0 for score in scores]"
   ]
  },
  {
   "cell_type": "code",
   "execution_count": null,
   "id": "7fde8ed7",
   "metadata": {
    "deletable": false,
    "editable": false,
    "run_control": {
     "frozen": true
    }
   },
   "outputs": [],
   "source": [
    "print(classification_report(result, y_test))"
   ]
  }
 ],
 "metadata": {
  "kernelspec": {
   "display_name": "Python 3",
   "language": "python",
   "name": "python3"
  },
  "language_info": {
   "codemirror_mode": {
    "name": "ipython",
    "version": 3
   },
   "file_extension": ".py",
   "mimetype": "text/x-python",
   "name": "python",
   "nbconvert_exporter": "python",
   "pygments_lexer": "ipython3",
   "version": "3.6.13"
  }
 },
 "nbformat": 4,
 "nbformat_minor": 5
}
