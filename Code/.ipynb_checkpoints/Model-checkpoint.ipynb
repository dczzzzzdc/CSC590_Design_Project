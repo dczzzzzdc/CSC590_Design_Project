{
 "cells": [
  {
   "cell_type": "markdown",
   "id": "66fb95e1",
   "metadata": {},
   "source": [
    "<h1><center> Twitter Sentiment Analysis"
   ]
  },
  {
   "cell_type": "markdown",
   "id": "0c6dc523",
   "metadata": {},
   "source": [
    "<h2> Table of Content"
   ]
  },
  {
   "cell_type": "markdown",
   "id": "9496dc6b",
   "metadata": {},
   "source": [
    "\n",
    "\n",
    "**[1. Introduction](#heading--1)**\n",
    "  * [1.1. Goals](#heading--1-1)\n",
    "  \n",
    "  * [1.2. NLP](#heading--1-2)\n",
    "  \n",
    "**[2. Initiallization](#heading--2)**\n",
    "  * [2.1. Import Libraries](#heading--2-1)\n",
    "  \n",
    "      * [2.1.1. NLTK](#heading--2-1-1)\n",
    "      \n",
    "  * [2.2. Prepare Dataset](#heading--2-2)\n",
    "  \n",
    "**[3. EDA](#heading--3)**\n",
    "\n",
    "**[4. Process Dataset](#heading--4)**\n",
    "  * [4.1. Clean Tweets](#heading--4-1)\n",
    "  \n",
    "  * [4.2. Stem Useful Words](#heading--4-2)\n",
    "\n",
    "----"
   ]
  },
  {
   "cell_type": "markdown",
   "id": "b79de1a7",
   "metadata": {},
   "source": [
    "<h2> Introduction    "
   ]
  },
  {
   "cell_type": "markdown",
   "id": "1b732e90",
   "metadata": {},
   "source": [
    "<h3> Goals"
   ]
  },
  {
   "cell_type": "markdown",
   "id": "8976a6d5",
   "metadata": {},
   "source": [
    "<h3> NLP"
   ]
  },
  {
   "cell_type": "markdown",
   "id": "9af552bd",
   "metadata": {},
   "source": [
    "<h2> Initiallization"
   ]
  },
  {
   "cell_type": "markdown",
   "id": "5f965e01",
   "metadata": {},
   "source": [
    "<h3> Import Libraries"
   ]
  },
  {
   "cell_type": "code",
   "execution_count": 65,
   "id": "2be9b643",
   "metadata": {},
   "outputs": [],
   "source": [
    "import re\n",
    "import os\n",
    "import string\n",
    "import numpy as np\n",
    "import pandas as pd \n",
    "import nltk\n",
    "from nltk.corpus import stopwords\n",
    "from nltk.stem import PorterStemmer\n",
    "from nltk.tokenize import word_tokenize\n",
    "from nltk.stem.wordnet import WordNetLemmatizer\n",
    "import gensim"
   ]
  },
  {
   "cell_type": "code",
   "execution_count": 66,
   "id": "9ecced37",
   "metadata": {},
   "outputs": [],
   "source": [
    "# WORD2VEC \n",
    "W2V_SIZE = 300\n",
    "W2V_WINDOW = 7\n",
    "W2V_EPOCH = 32\n",
    "W2V_MIN_COUNT = 10\n"
   ]
  },
  {
   "cell_type": "markdown",
   "id": "1067b1cc",
   "metadata": {},
   "source": [
    "<h3> Prepare Dataset"
   ]
  },
  {
   "cell_type": "markdown",
   "id": "dc10191c",
   "metadata": {},
   "source": [
    "<h4> Read Dataset"
   ]
  },
  {
   "cell_type": "code",
   "execution_count": 67,
   "id": "e1f6c906",
   "metadata": {},
   "outputs": [],
   "source": [
    "W2V_SIZE = 200 # Dimension of word vector\n",
    "W2V_WINDOW = 10\n",
    "W2V_EPOCH = 32\n",
    "W2V_MIN_COUNT = 40\n",
    "W2V_WORKERS=8"
   ]
  },
  {
   "cell_type": "code",
   "execution_count": 68,
   "id": "91572e84",
   "metadata": {
    "scrolled": false
   },
   "outputs": [],
   "source": [
    "col_names = ['ID','Text','Selected_Text','Sentiment']\n",
    "data = pd.read_csv('https://media.githubusercontent.com/media/dczzzzzdc/CSC590_Design_Project/main/Data/train.csv')\n",
    "data.columns = col_names"
   ]
  },
  {
   "cell_type": "code",
   "execution_count": 69,
   "id": "00335f8c",
   "metadata": {},
   "outputs": [],
   "source": [
    "sentiment_conv = {'negative':-1,'positive':1,'neutral':0}\n",
    "data.drop(['Selected_Text','ID'],axis = 1,inplace = True)\n",
    "data['Sentiment'] = data['Sentiment'].map(sentiment_conv)"
   ]
  },
  {
   "cell_type": "markdown",
   "id": "54a20b95",
   "metadata": {},
   "source": [
    "<h4> Split Dataset"
   ]
  },
  {
   "cell_type": "code",
   "execution_count": 70,
   "id": "2e8abaaf",
   "metadata": {},
   "outputs": [],
   "source": [
    "row_count = len(data.index)\n",
    "train_row_count = round(row_count*0.8)\n",
    "val_row_count =  row_count - train_row_count\n",
    "train = data.iloc[:train_row_count,:]\n",
    "val = data.iloc[train_row_count:,:]"
   ]
  },
  {
   "cell_type": "markdown",
   "id": "818e5e26",
   "metadata": {},
   "source": [
    "<h2> Expolartory Data Analysis"
   ]
  },
  {
   "cell_type": "markdown",
   "id": "57e4c176",
   "metadata": {},
   "source": [
    "<h4> Process Dataset"
   ]
  },
  {
   "cell_type": "code",
   "execution_count": 71,
   "id": "a5dd9743",
   "metadata": {},
   "outputs": [],
   "source": [
    "stop_words = set(stopwords.words('english'))\n",
    "stemmer = PorterStemmer()\n",
    "lemmatizer=WordNetLemmatizer()\n",
    "\n",
    "def process_text(text):\n",
    "    text = str(text).lower()\n",
    "    text = re.sub('https?://\\S+|www\\.\\S+', '', text) # remove url links\n",
    "    text = re.sub(\"@[\\w]*\",'',text) # remove \"@user\"\n",
    "    text = re.sub(r'[^\\w\\s]',' ',text) # remove punctuation marks\n",
    "    text = re.sub(r'[^a-zA-Z]',' ',text) # remove numbers and special characters\n",
    "    tokens = [word for word in word_tokenize(text) if not word in stop_words] # tokenize useful words \n",
    "    return [lemmatizer.lemmatize(stemmer.stem(token)) for token in tokens] # stem and lemmatize tokens\n",
    "\n",
    "train.insert(1,'Tokens',train['Text'].apply(lambda x:process_text(x)))"
   ]
  },
  {
   "cell_type": "code",
   "execution_count": 72,
   "id": "de2f4c22",
   "metadata": {},
   "outputs": [],
   "source": [
    "data = [tokens for tokens in train.Tokens] "
   ]
  },
  {
   "cell_type": "code",
   "execution_count": 73,
   "id": "17a1ec26",
   "metadata": {},
   "outputs": [],
   "source": [
    "model = gensim.models.word2vec.Word2Vec(vector_size = W2V_SIZE, window=W2V_WINDOW, min_count=W2V_MIN_COUNT, workers=8)"
   ]
  },
  {
   "cell_type": "code",
   "execution_count": 74,
   "id": "f1975cf7",
   "metadata": {},
   "outputs": [],
   "source": [
    "model.build_vocab(data)"
   ]
  },
  {
   "cell_type": "code",
   "execution_count": 75,
   "id": "2310f284",
   "metadata": {},
   "outputs": [
    {
     "name": "stdout",
     "output_type": "stream",
     "text": [
      "Vocab size 1910\n"
     ]
    }
   ],
   "source": [
    "words = model.wv.key_to_index.keys()"
   ]
  },
  {
   "cell_type": "code",
   "execution_count": null,
   "id": "44f9390e",
   "metadata": {},
   "outputs": [],
   "source": []
  }
 ],
 "metadata": {
  "kernelspec": {
   "display_name": "Python 3",
   "language": "python",
   "name": "python3"
  },
  "language_info": {
   "codemirror_mode": {
    "name": "ipython",
    "version": 3
   },
   "file_extension": ".py",
   "mimetype": "text/x-python",
   "name": "python",
   "nbconvert_exporter": "python",
   "pygments_lexer": "ipython3",
   "version": "3.9.1"
  }
 },
 "nbformat": 4,
 "nbformat_minor": 5
}
