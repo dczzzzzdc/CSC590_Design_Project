{
 "cells": [
  {
   "cell_type": "markdown",
   "id": "66fb95e1",
   "metadata": {},
   "source": [
    "<h1><center> Twitter Sentiment Analysis"
   ]
  },
  {
   "cell_type": "markdown",
   "id": "b79de1a7",
   "metadata": {},
   "source": [
    "<h2> Introduction\n",
    "     "
   ]
  },
  {
   "cell_type": "markdown",
   "id": "0c6dc523",
   "metadata": {},
   "source": [
    "<h2> Table of Content"
   ]
  },
  {
   "cell_type": "markdown",
   "id": "5f965e01",
   "metadata": {},
   "source": [
    "<h2> Import Libraries"
   ]
  },
  {
   "cell_type": "code",
   "execution_count": 88,
   "id": "2be9b643",
   "metadata": {},
   "outputs": [],
   "source": [
    "import re\n",
    "import os\n",
    "import string\n",
    "import numpy as np\n",
    "import pandas as pd \n",
    "import nltk\n",
    "from nltk.corpus import stopwords\n",
    "from nltk.stem import PorterStemmer\n",
    "from nltk.tokenize import word_tokenize"
   ]
  },
  {
   "cell_type": "markdown",
   "id": "9aa8112f",
   "metadata": {},
   "source": [
    " <h2>Exploratory data analysis"
   ]
  },
  {
   "cell_type": "markdown",
   "id": "dc10191c",
   "metadata": {},
   "source": [
    "<h3> Read Dataset"
   ]
  },
  {
   "cell_type": "code",
   "execution_count": 89,
   "id": "91572e84",
   "metadata": {
    "scrolled": false
   },
   "outputs": [],
   "source": [
    "col_names = ['ID','Text','Selected_Text','Sentiment']\n",
    "data = pd.read_csv('https://media.githubusercontent.com/media/dczzzzzdc/CSC590_Design_Project/main/Data/train.csv')\n",
    "data.columns = col_names"
   ]
  },
  {
   "cell_type": "code",
   "execution_count": 90,
   "id": "00335f8c",
   "metadata": {},
   "outputs": [],
   "source": [
    "sentiment_conv = {'negative':-1,'positive':1,'neutral':0}\n",
    "data.drop(['Selected_Text','ID'],axis = 1,inplace = True)\n",
    "data['Sentiment'] = data['Sentiment'].map(sentiment_conv)\n"
   ]
  },
  {
   "cell_type": "markdown",
   "id": "54a20b95",
   "metadata": {},
   "source": [
    "<h3> Split Dataset"
   ]
  },
  {
   "cell_type": "code",
   "execution_count": 91,
   "id": "2e8abaaf",
   "metadata": {},
   "outputs": [],
   "source": [
    "row_count = len(data.index)\n",
    "train_row_count = round(row_count*0.01)\n",
    "val_row_count =  row_count - train_row_count\n",
    "train = data.iloc[:train_row_count,:]\n",
    "val = data.iloc[train_row_count:,:]"
   ]
  },
  {
   "cell_type": "markdown",
   "id": "57e4c176",
   "metadata": {},
   "source": [
    "<h3> Process Dataset"
   ]
  },
  {
   "cell_type": "code",
   "execution_count": 92,
   "id": "924b7a05",
   "metadata": {},
   "outputs": [
    {
     "name": "stderr",
     "output_type": "stream",
     "text": [
      "d:\\program files (x86)\\lib\\site-packages\\pandas\\core\\indexing.py:1676: SettingWithCopyWarning: \n",
      "A value is trying to be set on a copy of a slice from a DataFrame.\n",
      "Try using .loc[row_indexer,col_indexer] = value instead\n",
      "\n",
      "See the caveats in the documentation: https://pandas.pydata.org/pandas-docs/stable/user_guide/indexing.html#returning-a-view-versus-a-copy\n",
      "  self._setitem_single_column(ilocs[0], value, pi)\n"
     ]
    }
   ],
   "source": [
    "def clean_text(text):\n",
    "    text = str(text).lower()\n",
    "    text = re.sub('\\[.*?\\]', '', text)\n",
    "    text = re.sub('https?://\\S+|www\\.\\S+', '', text)\n",
    "    text = re.sub('<.*?>+', '', text)\n",
    "    text = re.sub('[%s]' % re.escape(string.punctuation), '', text)\n",
    "    text = re.sub('\\n', '', text)\n",
    "    text = re.sub('\\w*\\d\\w*', '', text)\n",
    "    return text\n",
    "\n",
    "train.iloc[:,0] = train['Text'].apply(lambda x:clean_text(x))\n",
    "\n",
    "\n"
   ]
  },
  {
   "cell_type": "code",
   "execution_count": 93,
   "id": "17a1ec26",
   "metadata": {},
   "outputs": [],
   "source": [
    "stops = stopwords.words('english')\n",
    "ps = PorterStemmer()\n",
    "def remove_stop_words(text):\n",
    "    return ' '.join([ps.stem(word) for word in word_tokenize(text) if word not in stops])\n",
    "train.iloc[:,0] = train['Text'].apply(lambda x: remove_stop_words(x))\n"
   ]
  },
  {
   "cell_type": "code",
   "execution_count": null,
   "id": "3b096e81",
   "metadata": {},
   "outputs": [],
   "source": []
  },
  {
   "cell_type": "code",
   "execution_count": 94,
   "id": "f6a3d7d5",
   "metadata": {},
   "outputs": [
    {
     "data": {
      "text/html": [
       "<div>\n",
       "<style scoped>\n",
       "    .dataframe tbody tr th:only-of-type {\n",
       "        vertical-align: middle;\n",
       "    }\n",
       "\n",
       "    .dataframe tbody tr th {\n",
       "        vertical-align: top;\n",
       "    }\n",
       "\n",
       "    .dataframe thead th {\n",
       "        text-align: right;\n",
       "    }\n",
       "</style>\n",
       "<table border=\"1\" class=\"dataframe\">\n",
       "  <thead>\n",
       "    <tr style=\"text-align: right;\">\n",
       "      <th></th>\n",
       "      <th>Text</th>\n",
       "      <th>Sentiment</th>\n",
       "    </tr>\n",
       "  </thead>\n",
       "  <tbody>\n",
       "    <tr>\n",
       "      <th>0</th>\n",
       "      <td>id respond go</td>\n",
       "      <td>0</td>\n",
       "    </tr>\n",
       "    <tr>\n",
       "      <th>1</th>\n",
       "      <td>sooo sad miss san diego</td>\n",
       "      <td>-1</td>\n",
       "    </tr>\n",
       "    <tr>\n",
       "      <th>2</th>\n",
       "      <td>boss bulli</td>\n",
       "      <td>-1</td>\n",
       "    </tr>\n",
       "    <tr>\n",
       "      <th>3</th>\n",
       "      <td>interview leav alon</td>\n",
       "      <td>-1</td>\n",
       "    </tr>\n",
       "    <tr>\n",
       "      <th>4</th>\n",
       "      <td>son couldnt put releas alreadi bought</td>\n",
       "      <td>-1</td>\n",
       "    </tr>\n",
       "  </tbody>\n",
       "</table>\n",
       "</div>"
      ],
      "text/plain": [
       "                                    Text  Sentiment\n",
       "0                          id respond go          0\n",
       "1                sooo sad miss san diego         -1\n",
       "2                             boss bulli         -1\n",
       "3                    interview leav alon         -1\n",
       "4  son couldnt put releas alreadi bought         -1"
      ]
     },
     "execution_count": 94,
     "metadata": {},
     "output_type": "execute_result"
    }
   ],
   "source": [
    "train.head()"
   ]
  },
  {
   "cell_type": "code",
   "execution_count": null,
   "id": "77ff67ed",
   "metadata": {},
   "outputs": [],
   "source": []
  }
 ],
 "metadata": {
  "kernelspec": {
   "display_name": "Python 3",
   "language": "python",
   "name": "python3"
  },
  "language_info": {
   "codemirror_mode": {
    "name": "ipython",
    "version": 3
   },
   "file_extension": ".py",
   "mimetype": "text/x-python",
   "name": "python",
   "nbconvert_exporter": "python",
   "pygments_lexer": "ipython3",
   "version": "3.9.1"
  }
 },
 "nbformat": 4,
 "nbformat_minor": 5
}
