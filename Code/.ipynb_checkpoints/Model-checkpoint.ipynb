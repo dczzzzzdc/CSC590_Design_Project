{
 "cells": [
  {
   "cell_type": "code",
   "execution_count": null,
   "id": "4df300b5",
   "metadata": {},
   "outputs": [],
   "source": [
    "import pandas\n",
    "import math\n",
    "import numpy"
   ]
  },
  {
   "cell_type": "code",
   "execution_count": null,
   "id": "91572e84",
   "metadata": {
    "scrolled": false
   },
   "outputs": [],
   "source": [
    "col_names = ['ID','Text','Selected_Text','Sentiment']\n",
    "data = pandas.read_csv('https://media.githubusercontent.com/media/dczzzzzdc/CSC590_Design_Project/main/Data/train.csv')\n",
    "data.columns = col_names"
   ]
  },
  {
   "cell_type": "code",
   "execution_count": null,
   "id": "922c24df",
   "metadata": {},
   "outputs": [],
   "source": [
    "row_count = len(df.index)\n",
    "train_row_count = round(row_count*0.8)\n",
    "val_row_count =  row_count - train_row_count\n",
    "train = df.iloc[:,:train_row_count]"
   ]
  },
  {
   "cell_type": "code",
   "execution_count": null,
   "id": "423f30fd",
   "metadata": {},
   "outputs": [],
   "source": []
  },
  {
   "cell_type": "code",
   "execution_count": null,
   "id": "e57f2fca",
   "metadata": {},
   "outputs": [],
   "source": []
  },
  {
   "cell_type": "code",
   "execution_count": null,
   "id": "924b7a05",
   "metadata": {},
   "outputs": [],
   "source": []
  }
 ],
 "metadata": {
  "kernelspec": {
   "display_name": "Python 3",
   "language": "python",
   "name": "python3"
  },
  "language_info": {
   "codemirror_mode": {
    "name": "ipython",
    "version": 3
   },
   "file_extension": ".py",
   "mimetype": "text/x-python",
   "name": "python",
   "nbconvert_exporter": "python",
   "pygments_lexer": "ipython3",
   "version": "3.9.1"
  }
 },
 "nbformat": 4,
 "nbformat_minor": 5
}
