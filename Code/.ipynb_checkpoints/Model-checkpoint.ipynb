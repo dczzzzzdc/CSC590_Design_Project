{
 "cells": [
  {
   "cell_type": "markdown",
   "id": "66fb95e1",
   "metadata": {},
   "source": [
    "<h1><center> Twitter Sentiment Analysis"
   ]
  },
  {
   "cell_type": "markdown",
   "id": "b79de1a7",
   "metadata": {},
   "source": [
    "<h2> Introduction\n",
    "     "
   ]
  },
  {
   "cell_type": "markdown",
   "id": "0c6dc523",
   "metadata": {},
   "source": [
    "<h2> Table of Content"
   ]
  },
  {
   "cell_type": "markdown",
   "id": "5f965e01",
   "metadata": {},
   "source": [
    "<h2> Import Libraries"
   ]
  },
  {
   "cell_type": "code",
   "execution_count": 35,
   "id": "2be9b643",
   "metadata": {},
   "outputs": [],
   "source": [
    "import pandas as pd\n",
    "import sklearn\n",
    "import numpy as np\n",
    "import math\n",
    "import matplotlib as plt\n",
    "import seaborn as sns\n",
    "import nltk\n",
    "import re\n",
    "import string\n",
    "import warnings\n",
    "%matplotlib inline\n",
    "warnings.filterwarnings('ignore')"
   ]
  },
  {
   "cell_type": "markdown",
   "id": "9aa8112f",
   "metadata": {},
   "source": [
    " <h2>Exploratory data analysis"
   ]
  },
  {
   "cell_type": "markdown",
   "id": "dc10191c",
   "metadata": {},
   "source": [
    "<h3> Read Dataset"
   ]
  },
  {
   "cell_type": "code",
   "execution_count": 36,
   "id": "91572e84",
   "metadata": {
    "scrolled": false
   },
   "outputs": [],
   "source": [
    "col_names = ['ID','Text','Selected_Text','Sentiment']\n",
    "data = pd.read_csv('https://media.githubusercontent.com/media/dczzzzzdc/CSC590_Design_Project/main/Data/train.csv')\n",
    "data.columns = col_names"
   ]
  },
  {
   "cell_type": "code",
   "execution_count": 37,
   "id": "00335f8c",
   "metadata": {},
   "outputs": [],
   "source": [
    "sentiment_conv = {'negative':-1,'positive':1,'neutral':0}\n",
    "data.drop(['Selected_Text','ID'],axis = 1,inplace = True)\n",
    "data['Sentiment'] = data['Sentiment'].map(sentiment_conv)"
   ]
  },
  {
   "cell_type": "markdown",
   "id": "54a20b95",
   "metadata": {},
   "source": [
    "<h3> Split Dataset"
   ]
  },
  {
   "cell_type": "code",
   "execution_count": 38,
   "id": "2e8abaaf",
   "metadata": {},
   "outputs": [],
   "source": [
    "row_count = len(data.index)\n",
    "train_row_count = round(row_count*0.8)\n",
    "val_row_count =  row_count - train_row_count\n",
    "train = data.iloc[:train_row_count,:]\n",
    "val = data.iloc[train_row_count:,:]"
   ]
  },
  {
   "cell_type": "markdown",
   "id": "57e4c176",
   "metadata": {},
   "source": [
    "<h3> Process Dataset"
   ]
  },
  {
   "cell_type": "code",
   "execution_count": null,
   "id": "924b7a05",
   "metadata": {},
   "outputs": [],
   "source": []
  },
  {
   "cell_type": "code",
   "execution_count": null,
   "id": "1c4af548",
   "metadata": {},
   "outputs": [],
   "source": []
  },
  {
   "cell_type": "code",
   "execution_count": null,
   "id": "f6a3d7d5",
   "metadata": {},
   "outputs": [],
   "source": []
  }
 ],
 "metadata": {
  "kernelspec": {
   "display_name": "Python 3",
   "language": "python",
   "name": "python3"
  },
  "language_info": {
   "codemirror_mode": {
    "name": "ipython",
    "version": 3
   },
   "file_extension": ".py",
   "mimetype": "text/x-python",
   "name": "python",
   "nbconvert_exporter": "python",
   "pygments_lexer": "ipython3",
   "version": "3.9.1"
  }
 },
 "nbformat": 4,
 "nbformat_minor": 5
}
